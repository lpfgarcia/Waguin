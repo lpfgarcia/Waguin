{
 "cells": [
  {
   "cell_type": "code",
   "execution_count": 1,
   "id": "597ce53b-9110-4d64-a194-f2eabf5169ae",
   "metadata": {},
   "outputs": [],
   "source": [
    "import os\n",
    "import gradio as gr\n",
    "from langchain.chains import RetrievalQA\n",
    "from langchain.document_loaders import TextLoader\n",
    "from langchain.text_splitter import RecursiveCharacterTextSplitter\n",
    "from langchain.vectorstores import FAISS\n",
    "from langchain_openai import ChatOpenAI, OpenAIEmbeddings"
   ]
  },
  {
   "cell_type": "code",
   "execution_count": 2,
   "id": "8dc7e410-9cb1-414e-84fe-e04599f18e77",
   "metadata": {},
   "outputs": [],
   "source": [
    "os.environ['OPENAI_API_KEY'] = '' "
   ]
  },
  {
   "cell_type": "code",
   "execution_count": 3,
   "id": "8f2b6f12-d05c-4e17-a6dd-a039b2064c97",
   "metadata": {},
   "outputs": [],
   "source": [
    "loader = TextLoader('dados.txt')\n",
    "documents = loader.load()"
   ]
  },
  {
   "cell_type": "code",
   "execution_count": 4,
   "id": "3983e0d5-0952-49c9-b389-35d8587f3599",
   "metadata": {},
   "outputs": [],
   "source": [
    "text_splitter = RecursiveCharacterTextSplitter(chunk_size=500, chunk_overlap=50)\n",
    "docs = text_splitter.split_documents(documents)"
   ]
  },
  {
   "cell_type": "code",
   "execution_count": 5,
   "id": "ca3dcb6e-fe70-4fd7-bd59-39970db6475c",
   "metadata": {},
   "outputs": [],
   "source": [
    "embeddings = OpenAIEmbeddings()\n",
    "vector_store = FAISS.from_documents(docs, embeddings)\n",
    "retriever = vector_store.as_retriever()"
   ]
  },
  {
   "cell_type": "code",
   "execution_count": 6,
   "id": "bbd1c4ca-7ab8-4fc9-8efc-ed7bb8e2ec38",
   "metadata": {},
   "outputs": [],
   "source": [
    "llm = ChatOpenAI(model_name='gpt-3.5-turbo')\n",
    "qa_chain = RetrievalQA.from_chain_type(llm=llm, retriever=retriever, chain_type=\"stuff\")"
   ]
  },
  {
   "cell_type": "code",
   "execution_count": 7,
   "id": "6e78f1d3-028a-4766-9198-7db9fa47b80c",
   "metadata": {},
   "outputs": [],
   "source": [
    "def chat_rag(history, message):\n",
    "    if history is None:\n",
    "        history = []\n",
    "    \n",
    "    response = qa_chain.invoke(message)['result']\n",
    "    \n",
    "    history.append({'role': 'user', 'content': message})\n",
    "    history.append({'role': 'assistant', 'content': response})\n",
    "    \n",
    "    return history, ''"
   ]
  },
  {
   "cell_type": "code",
   "execution_count": 8,
   "id": "82fe4c4c-6491-4bce-897c-a1ba2d676929",
   "metadata": {},
   "outputs": [],
   "source": [
    "with gr.Blocks() as demo:\n",
    "    gr.Markdown('# Chat RAG - Baseado no seu arquivo de texto')\n",
    "    \n",
    "    chatbot = gr.Chatbot(type='messages')\n",
    "    msg = gr.Textbox(label='Digite sua pergunta')\n",
    "    send_btn = gr.Button('Enviar')\n",
    "    \n",
    "    send_btn.click(chat_rag, [chatbot, msg], [chatbot, msg])"
   ]
  },
  {
   "cell_type": "code",
   "execution_count": 9,
   "id": "b7b825af-e297-4290-81e5-5c25d858272c",
   "metadata": {},
   "outputs": [
    {
     "name": "stdout",
     "output_type": "stream",
     "text": [
      "* Running on local URL:  http://127.0.0.1:7860\n",
      "\n",
      "To create a public link, set `share=True` in `launch()`.\n"
     ]
    },
    {
     "data": {
      "text/html": [
       "<div><iframe src=\"http://127.0.0.1:7860/\" width=\"100%\" height=\"500\" allow=\"autoplay; camera; microphone; clipboard-read; clipboard-write;\" frameborder=\"0\" allowfullscreen></iframe></div>"
      ],
      "text/plain": [
       "<IPython.core.display.HTML object>"
      ]
     },
     "metadata": {},
     "output_type": "display_data"
    },
    {
     "data": {
      "text/plain": []
     },
     "execution_count": 9,
     "metadata": {},
     "output_type": "execute_result"
    }
   ],
   "source": [
    "demo.launch()"
   ]
  },
  {
   "cell_type": "code",
   "execution_count": null,
   "id": "2f190973-3f05-487b-b23e-885470a67f4e",
   "metadata": {},
   "outputs": [],
   "source": []
  }
 ],
 "metadata": {
  "kernelspec": {
   "display_name": "Python 3 (ipykernel)",
   "language": "python",
   "name": "python3"
  },
  "language_info": {
   "codemirror_mode": {
    "name": "ipython",
    "version": 3
   },
   "file_extension": ".py",
   "mimetype": "text/x-python",
   "name": "python",
   "nbconvert_exporter": "python",
   "pygments_lexer": "ipython3",
   "version": "3.10.16"
  }
 },
 "nbformat": 4,
 "nbformat_minor": 5
}
